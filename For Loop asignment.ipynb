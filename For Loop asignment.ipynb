{
 "cells": [
  {
   "cell_type": "markdown",
   "id": "0f39b6ae-897b-4f2b-82fc-7b7268eb1f32",
   "metadata": {},
   "source": [
    "1. Write a Python program to print the numbers from 1 to 10 using a `for` loop."
   ]
  },
  {
   "cell_type": "code",
   "execution_count": 1,
   "id": "a0dd6581-49a7-468d-982b-44e6dd26e73d",
   "metadata": {},
   "outputs": [
    {
     "name": "stdout",
     "output_type": "stream",
     "text": [
      "1 2 3 4 5 6 7 8 9 10 "
     ]
    }
   ],
   "source": [
    "for i in range(1,11):\n",
    "    print(i, end = ' ')"
   ]
  },
  {
   "cell_type": "markdown",
   "id": "db86c062-63ed-4eea-8d78-bdb366a51f63",
   "metadata": {},
   "source": [
    "2. Create a program that calculates the sum of all numbers in a list using a `for` loop."
   ]
  },
  {
   "cell_type": "code",
   "execution_count": 7,
   "id": "8c3ea430-bb1b-40d3-a088-72e1d16c9971",
   "metadata": {},
   "outputs": [
    {
     "name": "stdout",
     "output_type": "stream",
     "text": [
      "Sum: 55\n"
     ]
    }
   ],
   "source": [
    "numbers = [1, 2, 3, 4, 5, 6, 7, 8, 9, 10]\n",
    "sum_result = 0\n",
    "\n",
    "for num in numbers:\n",
    "    sum_result += num\n",
    "\n",
    "print(\"Sum:\", sum_result)\n"
   ]
  },
  {
   "cell_type": "markdown",
   "id": "ee9765e5-c2e1-4198-9d68-40d77ba91fad",
   "metadata": {},
   "source": [
    "3. Write a program to print the characters of a string in reverse order using a `for` loop."
   ]
  },
  {
   "cell_type": "code",
   "execution_count": 8,
   "id": "3e626bd8-9d74-477f-83ac-97890db1b7f1",
   "metadata": {},
   "outputs": [
    {
     "name": "stdout",
     "output_type": "stream",
     "text": [
      "Reversed String: !dlroW ,olleH\n"
     ]
    }
   ],
   "source": [
    "my_string = \"Hello, World!\"\n",
    "reverse_string = \"\"\n",
    "\n",
    "for char in reversed(my_string):\n",
    "    reverse_string += char\n",
    "\n",
    "print(\"Reversed String:\", reverse_string)\n"
   ]
  },
  {
   "cell_type": "markdown",
   "id": "0a0e8605-18df-4485-b58b-d5f0ca9039f4",
   "metadata": {},
   "source": [
    "4. Develop a program that finds the factorial of a given number using a `for` loop."
   ]
  },
  {
   "cell_type": "code",
   "execution_count": 9,
   "id": "68d39abc-54d3-4ea5-b0f1-ea57097cb15d",
   "metadata": {},
   "outputs": [
    {
     "name": "stdout",
     "output_type": "stream",
     "text": [
      "Factorial of 5: 120\n"
     ]
    }
   ],
   "source": [
    "number = 5\n",
    "factorial = 1\n",
    "\n",
    "for i in range(1, number + 1):\n",
    "    factorial *= i\n",
    "\n",
    "print(f\"Factorial of {number}: {factorial}\")\n"
   ]
  },
  {
   "cell_type": "markdown",
   "id": "be09ce65-a7c7-4580-99eb-18ddb78f01f9",
   "metadata": {},
   "source": [
    "5. Create a program to print the multiplication table of a given number using a `for` loop."
   ]
  },
  {
   "cell_type": "code",
   "execution_count": 11,
   "id": "1394f18c-6764-4a20-af13-5f5eb851e6f1",
   "metadata": {},
   "outputs": [
    {
     "name": "stdout",
     "output_type": "stream",
     "text": [
      "7\n",
      "14\n",
      "21\n",
      "28\n",
      "35\n",
      "42\n",
      "49\n",
      "56\n",
      "63\n",
      "70\n"
     ]
    }
   ],
   "source": [
    "a = 7\n",
    "\n",
    "for i in range(1,11):\n",
    "    result = a * i\n",
    "    print(result)"
   ]
  },
  {
   "cell_type": "markdown",
   "id": "97c3e732-52da-4e3d-a95b-b2947ad3407e",
   "metadata": {},
   "source": [
    "6. Write a program that counts the number of even and odd numbers in a list using a `for` loop."
   ]
  },
  {
   "cell_type": "code",
   "execution_count": 15,
   "id": "7e3c7dbb-11ac-49fa-9557-8ee673d65188",
   "metadata": {},
   "outputs": [
    {
     "name": "stdout",
     "output_type": "stream",
     "text": [
      "Number of even numbers: 5\n",
      "Number of odd numbers: 5\n"
     ]
    }
   ],
   "source": [
    "numbers = [1, 2, 3, 4, 5, 6, 7, 8, 9, 10]\n",
    "\n",
    "even_count = 0\n",
    "odd_count = 0\n",
    "\n",
    "for num in numbers:\n",
    "    if num % 2 == 0:\n",
    "        even_count += 1\n",
    "    else:\n",
    "        odd_count += 1\n",
    "\n",
    "print(\"Number of even numbers:\", even_count)\n",
    "print(\"Number of odd numbers:\", odd_count)\n"
   ]
  },
  {
   "cell_type": "markdown",
   "id": "ddbf73fa-a629-4d44-9b3d-cd218cbbd1c4",
   "metadata": {},
   "source": [
    "7. Develop a program that prints the squares of numbers from 1 to 5 using a `for` loop."
   ]
  },
  {
   "cell_type": "code",
   "execution_count": 16,
   "id": "ea8e23a7-aef6-45b3-aadd-871a9d66a5fb",
   "metadata": {},
   "outputs": [
    {
     "name": "stdout",
     "output_type": "stream",
     "text": [
      "1\n",
      "4\n",
      "9\n",
      "16\n",
      "25\n"
     ]
    }
   ],
   "source": [
    "for i in range(1,6):\n",
    "    result = i**2\n",
    "    print(result)"
   ]
  },
  {
   "cell_type": "markdown",
   "id": "af9b2bc6-f28c-4f27-bd85-06f16ad7c05e",
   "metadata": {},
   "source": [
    "8. Create a program to find the length of a string without using the `len()` function."
   ]
  },
  {
   "cell_type": "code",
   "execution_count": 17,
   "id": "b4b8103f-b776-4677-befb-873c11411405",
   "metadata": {},
   "outputs": [
    {
     "name": "stdout",
     "output_type": "stream",
     "text": [
      "11\n"
     ]
    }
   ],
   "source": [
    "my_string = \"hello world\"\n",
    "\n",
    "length = 0\n",
    "\n",
    "for i in my_string:\n",
    "    length = 1 + length\n",
    "    \n",
    "print(length)"
   ]
  },
  {
   "cell_type": "markdown",
   "id": "005d05fe-b838-41dd-8b10-90e34ac10e32",
   "metadata": {},
   "source": [
    "9. Write a program that calculates the average of a list of numbers using a `for` loop.\n"
   ]
  },
  {
   "cell_type": "code",
   "execution_count": 18,
   "id": "f25b23cd-d171-4dd1-988b-9ec39a7e5d48",
   "metadata": {},
   "outputs": [
    {
     "name": "stdout",
     "output_type": "stream",
     "text": [
      "Average: 3.0\n"
     ]
    }
   ],
   "source": [
    "numbers = [1, 2, 3, 4, 5]\n",
    "\n",
    "total = 0\n",
    "count = 0\n",
    "\n",
    "for num in numbers:\n",
    "    total += num\n",
    "    count += 1\n",
    "\n",
    "average = total / count\n",
    "print(\"Average:\", average)\n"
   ]
  },
  {
   "cell_type": "markdown",
   "id": "b44eaf8a-11cb-4d48-a0da-1f6442b7f157",
   "metadata": {},
   "source": [
    "10. Develop a program that prints the first `n` Fibonacci numbers using a `for` loop.\n"
   ]
  },
  {
   "cell_type": "code",
   "execution_count": 19,
   "id": "e04f93ce-1708-40bb-92d5-077c8223e05d",
   "metadata": {},
   "outputs": [
    {
     "name": "stdout",
     "output_type": "stream",
     "text": [
      "0 1 1 2 3 "
     ]
    }
   ],
   "source": [
    "n = 5\n",
    "a, b = 0, 1\n",
    "\n",
    "for _ in range(n):\n",
    "    print(a, end=\" \")\n",
    "    a, b = b, a + b\n"
   ]
  },
  {
   "cell_type": "code",
   "execution_count": 21,
   "id": "e4296d76-c093-40df-b546-f16072360d29",
   "metadata": {},
   "outputs": [
    {
     "name": "stdout",
     "output_type": "stream",
     "text": [
      "10\n"
     ]
    }
   ],
   "source": [
    "a = 5\n",
    "b = 2\n",
    "c = 3\n",
    "\n",
    "q = str(a,b,c)\n",
    "\n",
    "print(a+b+c)"
   ]
  },
  {
   "cell_type": "markdown",
   "id": "869bcb13-63eb-48ee-b96b-2d280ee399f7",
   "metadata": {},
   "source": [
    "11. Check for Duplicates in a List\n"
   ]
  },
  {
   "cell_type": "code",
   "execution_count": 2,
   "id": "305574ee-7a54-490b-a578-7bb8f9640773",
   "metadata": {},
   "outputs": [
    {
     "name": "stdout",
     "output_type": "stream",
     "text": [
      "List contains duplicates\n"
     ]
    }
   ],
   "source": [
    "def has_duplicates(lst):\n",
    "    for i in range(len(lst)):\n",
    "        for j in range(i + 1, len(lst)):\n",
    "            if lst[i] == lst[j]:\n",
    "                return True\n",
    "    return False\n",
    "\n",
    "# Example usage:\n",
    "my_list = [1, 2, 3, 4, 5, 2]\n",
    "if has_duplicates(my_list):\n",
    "    print(\"List contains duplicates\")\n",
    "else:\n",
    "    print(\"List does not contain duplicates\")\n"
   ]
  },
  {
   "cell_type": "markdown",
   "id": "6e589df1-ff70-4244-a185-bfbc00ab8961",
   "metadata": {},
   "source": [
    "12. Print Prime Numbers in a Given Range\n"
   ]
  },
  {
   "cell_type": "code",
   "execution_count": 5,
   "id": "cb336f4c-5c87-48f9-a2c3-7ec80e236a64",
   "metadata": {},
   "outputs": [
    {
     "name": "stdout",
     "output_type": "stream",
     "text": [
      "11\n",
      "13\n",
      "17\n",
      "19\n",
      "23\n",
      "29\n",
      "31\n",
      "37\n",
      "41\n",
      "43\n",
      "47\n"
     ]
    }
   ],
   "source": [
    "start_range = 10\n",
    "end_range = 50\n",
    "\n",
    "for num in range(start_range, end_range + 1):\n",
    "    if num > 1:\n",
    "        for i in range(2, int(num ** 0.5) + 1):\n",
    "            if (num % i) == 0:\n",
    "                break\n",
    "        else:\n",
    "            print(num)\n"
   ]
  },
  {
   "cell_type": "markdown",
   "id": "1b138a1c-2d16-42f0-823a-c5a23ba28214",
   "metadata": {},
   "source": [
    "13. Count Vowels in a String\n"
   ]
  },
  {
   "cell_type": "code",
   "execution_count": 6,
   "id": "d7255bef-4f52-4a3f-8171-ca5089e6b02d",
   "metadata": {},
   "outputs": [
    {
     "name": "stdout",
     "output_type": "stream",
     "text": [
      "Number of vowels: 3\n"
     ]
    }
   ],
   "source": [
    "input_string = \"Hello, World!\"\n",
    "vowel_count = 0\n",
    "\n",
    "for char in input_string:\n",
    "    if char.lower() in \"aeiou\":\n",
    "        vowel_count += 1\n",
    "\n",
    "print(\"Number of vowels:\", vowel_count)\n"
   ]
  },
  {
   "cell_type": "markdown",
   "id": "c672fac5-458b-4465-88f3-6f7b9704eaa7",
   "metadata": {},
   "source": [
    "14. Find Maximum Element in a 2D List\n"
   ]
  },
  {
   "cell_type": "code",
   "execution_count": 7,
   "id": "4fcc848c-c16c-4226-a246-bf8371e9429c",
   "metadata": {},
   "outputs": [
    {
     "name": "stdout",
     "output_type": "stream",
     "text": [
      "Maximum element: 9\n"
     ]
    }
   ],
   "source": [
    "matrix = [\n",
    "    [1, 2, 3],\n",
    "    [4, 5, 6],\n",
    "    [7, 8, 9]\n",
    "]\n",
    "\n",
    "max_element = matrix[0][0]\n",
    "\n",
    "for row in matrix:\n",
    "    for element in row:\n",
    "        if element > max_element:\n",
    "            max_element = element\n",
    "\n",
    "print(\"Maximum element:\", max_element)\n"
   ]
  },
  {
   "cell_type": "markdown",
   "id": "b9edf715-ba0a-4782-8a75-9ebb5740bcdc",
   "metadata": {},
   "source": [
    "15. Remove All Occurrences of a Specific Element from a List\n"
   ]
  },
  {
   "cell_type": "code",
   "execution_count": 8,
   "id": "3b215190-0fa5-44a9-8f27-d7618b0e1ec6",
   "metadata": {},
   "outputs": [
    {
     "name": "stdout",
     "output_type": "stream",
     "text": [
      "List after removal: [1, 3, 4, 5]\n"
     ]
    }
   ],
   "source": [
    "my_list = [1, 2, 3, 2, 4, 5, 2]\n",
    "element_to_remove = 2\n",
    "\n",
    "for _ in range(my_list.count(element_to_remove)):\n",
    "    my_list.remove(element_to_remove)\n",
    "\n",
    "print(\"List after removal:\", my_list)\n"
   ]
  },
  {
   "cell_type": "markdown",
   "id": "55a76b7a-20ef-4d52-aff9-0aa2a68d4a4c",
   "metadata": {},
   "source": [
    "16. Develop a program that generates a multiplication table for numbers from 1 to 5 using a nested `for` loop."
   ]
  },
  {
   "cell_type": "code",
   "execution_count": 12,
   "id": "3b360de0-2670-4e5e-89a7-a7441ee23ed3",
   "metadata": {},
   "outputs": [
    {
     "name": "stdout",
     "output_type": "stream",
     "text": [
      "1 2 3 4 5 \n",
      "2 4 6 8 10 \n",
      "3 6 9 12 15 \n",
      "4 8 12 16 20 \n",
      "5 10 15 20 25 \n"
     ]
    }
   ],
   "source": [
    "for i in range(1,6):\n",
    "    for j in range(1,6):\n",
    "        print(i * j, end = \" \")\n",
    "    print()"
   ]
  },
  {
   "cell_type": "markdown",
   "id": "d954d58c-e50e-4356-a512-6a2d7c2fb6ac",
   "metadata": {},
   "source": [
    "17. Write a program that converts a list of Fahrenheit temperatures to Celsius using a `for` loop.\n"
   ]
  },
  {
   "cell_type": "code",
   "execution_count": 13,
   "id": "d46e6d6a-2768-4fc7-be05-37ebd1933517",
   "metadata": {},
   "outputs": [
    {
     "name": "stdout",
     "output_type": "stream",
     "text": [
      "32°F is 0.00°C\n",
      "68°F is 20.00°C\n",
      "85°F is 29.44°C\n",
      "104°F is 40.00°C\n",
      "212°F is 100.00°C\n"
     ]
    }
   ],
   "source": [
    "fahrenheit_temps = [32, 68, 85, 104, 212]\n",
    "for f in fahrenheit_temps:\n",
    "    celsius = (f - 32) * 5/9\n",
    "    print(f\"{f}°F is {celsius:.2f}°C\")\n"
   ]
  },
  {
   "cell_type": "markdown",
   "id": "db7f6983-88c8-4569-be5a-36226661b2b1",
   "metadata": {},
   "source": [
    "18. Create a program to print the common elements from two lists using a `for` loop.\n"
   ]
  },
  {
   "cell_type": "code",
   "execution_count": 14,
   "id": "345fb0c3-a7a0-4965-9f62-67bcb861d485",
   "metadata": {},
   "outputs": [
    {
     "name": "stdout",
     "output_type": "stream",
     "text": [
      "3\n",
      "4\n",
      "5\n"
     ]
    }
   ],
   "source": [
    "list1 = [1, 2, 3, 4, 5]\n",
    "list2 = [3, 4, 5, 6, 7]\n",
    "\n",
    "for element in list1:\n",
    "    if element in list2:\n",
    "        print(element)\n"
   ]
  },
  {
   "cell_type": "markdown",
   "id": "f4fcd7e8-b53d-47e4-a9a3-eccd2f063705",
   "metadata": {},
   "source": [
    "19. Develop a program that prints the pattern of right-angled triangles using a `for` loop. Use ‘*’ to draw the pattern\n"
   ]
  },
  {
   "cell_type": "code",
   "execution_count": 20,
   "id": "8d576413-5c11-435f-bb84-28dc60713d5d",
   "metadata": {},
   "outputs": [
    {
     "name": "stdout",
     "output_type": "stream",
     "text": [
      "* \n",
      "* * \n",
      "* * * \n",
      "* * * * \n",
      "* * * * * \n"
     ]
    }
   ],
   "source": [
    "for i in range(1, 6):\n",
    "    for j in range(i):\n",
    "        print(\"*\", end=\" \")\n",
    "    print()\n"
   ]
  },
  {
   "cell_type": "markdown",
   "id": "a0041fd2-d0c9-43f2-af9a-c1745457513f",
   "metadata": {},
   "source": [
    "20. Write a program to find the greatest common divisor (GCD) of two numbers using a `for` loop.\n"
   ]
  },
  {
   "cell_type": "code",
   "execution_count": 21,
   "id": "878243a9-02c0-4668-a788-22385134dadb",
   "metadata": {},
   "outputs": [
    {
     "name": "stdout",
     "output_type": "stream",
     "text": [
      "The GCD of 36 and 48 is 12\n"
     ]
    }
   ],
   "source": [
    "num1 = 36\n",
    "num2 = 48\n",
    "\n",
    "for i in range(1, min(num1, num2) + 1):\n",
    "    if num1 % i == 0 and num2 % i == 0:\n",
    "        gcd = i\n",
    "\n",
    "print(f\"The GCD of {num1} and {num2} is {gcd}\")\n"
   ]
  },
  {
   "cell_type": "markdown",
   "id": "ebdd9ce8-9708-444d-a02d-2c9418808970",
   "metadata": {},
   "source": [
    "21. Create a program that calculates the sum of the digits of numbers in a list using a list comprehension.\n"
   ]
  },
  {
   "cell_type": "code",
   "execution_count": 22,
   "id": "1353cd1f-efb3-4026-a20a-359b9d51f85d",
   "metadata": {},
   "outputs": [
    {
     "name": "stdout",
     "output_type": "stream",
     "text": [
      "[6, 15, 24]\n"
     ]
    }
   ],
   "source": [
    "numbers = [123, 456, 789]\n",
    "\n",
    "sum_of_digits = [sum(int(digit) for digit in str(num)) for num in numbers]\n",
    "\n",
    "print(sum_of_digits)\n"
   ]
  },
  {
   "cell_type": "markdown",
   "id": "0bc6a1d0-0697-4b4a-87f5-0d43fdbfe977",
   "metadata": {},
   "source": [
    "22. Write a program to find the prime factors of a given number using a `for` loop and list comprehension.\n"
   ]
  },
  {
   "cell_type": "code",
   "execution_count": 23,
   "id": "90a4e9a9-4826-44ef-af3d-f1ef875eaf6f",
   "metadata": {},
   "outputs": [
    {
     "name": "stdout",
     "output_type": "stream",
     "text": [
      "[2, 7]\n"
     ]
    }
   ],
   "source": [
    "def is_prime(n):\n",
    "    return n > 1 and all(n % i != 0 for i in range(2, int(n**0.5) + 1))\n",
    "\n",
    "number = 56\n",
    "\n",
    "prime_factors = [factor for factor in range(2, number + 1) if number % factor == 0 and is_prime(factor)]\n",
    "\n",
    "print(prime_factors)\n"
   ]
  },
  {
   "cell_type": "markdown",
   "id": "0270434f-7107-4947-bf3c-d44c04211b82",
   "metadata": {},
   "source": [
    "23. Develop a program that extracts unique elements from a list and stores them in a new list using a list comprehension\n"
   ]
  },
  {
   "cell_type": "code",
   "execution_count": 24,
   "id": "40ba0ab5-7ed6-436c-8845-5f31afe1a760",
   "metadata": {},
   "outputs": [
    {
     "name": "stdout",
     "output_type": "stream",
     "text": [
      "[1, 2, 3, 4, 5]\n"
     ]
    }
   ],
   "source": [
    "original_list = [1, 2, 2, 3, 4, 4, 5]\n",
    "\n",
    "unique_elements = list({element for element in original_list})\n",
    "\n",
    "print(unique_elements)\n"
   ]
  },
  {
   "cell_type": "markdown",
   "id": "59ac50e6-80d8-4280-8b58-82804319b381",
   "metadata": {},
   "source": [
    "24. Create a program that generates a list of all palindromic numbers up to a specified limit using a list comprehension"
   ]
  },
  {
   "cell_type": "code",
   "execution_count": 25,
   "id": "0cfdda5b-aeff-40d7-bffb-34c777e50cdd",
   "metadata": {},
   "outputs": [
    {
     "name": "stdout",
     "output_type": "stream",
     "text": [
      "[0, 1, 2, 3, 4, 5, 6, 7, 8, 9, 11, 22, 33, 44, 55, 66, 77, 88, 99]\n"
     ]
    }
   ],
   "source": [
    "limit = 100\n",
    "\n",
    "palindromic_numbers = [num for num in range(limit + 1) if str(num) == str(num)[::-1]]\n",
    "\n",
    "print(palindromic_numbers)\n"
   ]
  },
  {
   "cell_type": "markdown",
   "id": "5dec9f4e-cf04-4cca-8a30-1467aed79c2d",
   "metadata": {},
   "source": [
    "25. Write a program to flatten a nested list using list comprehension.\n"
   ]
  },
  {
   "cell_type": "code",
   "execution_count": 26,
   "id": "6528909c-33df-47ab-a0fa-0ef8058ff536",
   "metadata": {},
   "outputs": [
    {
     "name": "stdout",
     "output_type": "stream",
     "text": [
      "[1, 2, 3, 4, 5, 6, 7, 8]\n"
     ]
    }
   ],
   "source": [
    "nested_list = [[1, 2, 3], [4, 5], [6, 7, 8]]\n",
    "\n",
    "flattened_list = [element for sublist in nested_list for element in sublist]\n",
    "\n",
    "print(flattened_list)\n"
   ]
  },
  {
   "cell_type": "markdown",
   "id": "d51e204d-b4c2-4a93-a7d0-a761094a0981",
   "metadata": {},
   "source": [
    "26. Develop a program that computes the sum of even and odd numbers in a list separately using list comprehension.\n"
   ]
  },
  {
   "cell_type": "code",
   "execution_count": 27,
   "id": "4c257c8a-4399-4dda-b391-7017a45d5bc3",
   "metadata": {},
   "outputs": [
    {
     "name": "stdout",
     "output_type": "stream",
     "text": [
      "Sum of even numbers: 30\n",
      "Sum of odd numbers: 25\n"
     ]
    }
   ],
   "source": [
    "numbers = [1, 2, 3, 4, 5, 6, 7, 8, 9, 10]\n",
    "\n",
    "sum_even = sum(x for x in numbers if x % 2 == 0)\n",
    "sum_odd = sum(x for x in numbers if x % 2 != 0)\n",
    "\n",
    "print(f\"Sum of even numbers: {sum_even}\")\n",
    "print(f\"Sum of odd numbers: {sum_odd}\")\n"
   ]
  },
  {
   "cell_type": "markdown",
   "id": "dcb80e53-8f5e-4d83-9232-7f2308701031",
   "metadata": {},
   "source": [
    "27. Create a program that generates a list of squares of odd numbers between 1 and 10 using list comprehension.\n"
   ]
  },
  {
   "cell_type": "code",
   "execution_count": 28,
   "id": "50b28700-62b9-46b3-a031-4691f31ed29c",
   "metadata": {},
   "outputs": [
    {
     "name": "stdout",
     "output_type": "stream",
     "text": [
      "List of squares of odd numbers: [1, 9, 25, 49, 81]\n"
     ]
    }
   ],
   "source": [
    "squares_of_odd = [x**2 for x in range(1, 11) if x % 2 != 0]\n",
    "\n",
    "print(\"List of squares of odd numbers:\", squares_of_odd)\n"
   ]
  },
  {
   "cell_type": "markdown",
   "id": "8e88fc4b-471f-4cbd-b8ed-c7128e74bb8e",
   "metadata": {},
   "source": [
    "28. Write a program that combines two lists into a dictionary using list comprehension.\n"
   ]
  },
  {
   "cell_type": "code",
   "execution_count": 29,
   "id": "4c2b51d7-b51d-4bad-8411-26aa2c1202b4",
   "metadata": {},
   "outputs": [
    {
     "name": "stdout",
     "output_type": "stream",
     "text": [
      "Combined dictionary: {'a': 1, 'b': 2, 'c': 3}\n"
     ]
    }
   ],
   "source": [
    "keys = ['a', 'b', 'c']\n",
    "values = [1, 2, 3]\n",
    "\n",
    "combined_dict = {k: v for k, v in zip(keys, values)}\n",
    "\n",
    "print(\"Combined dictionary:\", combined_dict)\n"
   ]
  },
  {
   "cell_type": "markdown",
   "id": "b1b6dae6-ab34-4fd8-8112-3a61c352b4ef",
   "metadata": {},
   "source": [
    "29. Develop a program that extracts the vowels from a string and stores them in a list using list comprehension.\n"
   ]
  },
  {
   "cell_type": "code",
   "execution_count": 30,
   "id": "c9f83ce6-de7d-4d38-a8f0-0c33d5a1bf32",
   "metadata": {},
   "outputs": [
    {
     "name": "stdout",
     "output_type": "stream",
     "text": [
      "List of vowels: ['e', 'o', 'o']\n"
     ]
    }
   ],
   "source": [
    "input_string = \"Hello, World!\"\n",
    "\n",
    "vowels = [char for char in input_string if char.lower() in 'aeiou']\n",
    "\n",
    "print(\"List of vowels:\", vowels)\n"
   ]
  },
  {
   "cell_type": "markdown",
   "id": "2627d186-a873-4a78-9a9f-73fc69cf6110",
   "metadata": {},
   "source": [
    "30. Create a program that removes all non-numeric characters from a list of strings using list comprehension.\n"
   ]
  },
  {
   "cell_type": "code",
   "execution_count": 31,
   "id": "eee47a13-86cd-4a34-9039-d23053f68042",
   "metadata": {},
   "outputs": [
    {
     "name": "stdout",
     "output_type": "stream",
     "text": [
      "List with only numeric characters: ['', '123', '45', '678', '9']\n"
     ]
    }
   ],
   "source": [
    "string_list = ['abc', '123', '45x', '678', '9y']\n",
    "\n",
    "numeric_strings = [''.join(char for char in s if char.isnumeric()) for s in string_list]\n",
    "\n",
    "print(\"List with only numeric characters:\", numeric_strings)\n"
   ]
  },
  {
   "cell_type": "markdown",
   "id": "cfe95cb4-5565-4ae1-b604-f71a49dedde1",
   "metadata": {},
   "source": [
    "31. Write a program to generate a list of prime numbers using the Sieve of Eratosthenes algorithm and list comprehension.\n"
   ]
  },
  {
   "cell_type": "code",
   "execution_count": 33,
   "id": "fabd1681-e163-4de2-b991-b4b1f7dd0aa7",
   "metadata": {},
   "outputs": [
    {
     "name": "stdout",
     "output_type": "stream",
     "text": [
      "[2, 3, 5, 7, 11, 13, 17, 19, 23, 29, 31, 37, 41, 43, 47]\n"
     ]
    }
   ],
   "source": [
    "limit = 50 \n",
    "primes = [num for num in range(2, limit) if all(num % i != 0 for i in range(2, int(num**0.5) + 1))]\n",
    "print(primes)\n"
   ]
  },
  {
   "cell_type": "markdown",
   "id": "22506acf-d7de-4158-bfa3-d4ec3eda99b6",
   "metadata": {},
   "source": [
    "32. Create a program that generates a list of all Pythagorean triplets up to a specified limit using list comprehension.\n"
   ]
  },
  {
   "cell_type": "code",
   "execution_count": 34,
   "id": "124560f5-cec0-4f8e-b97a-6c8710dc4c09",
   "metadata": {},
   "outputs": [
    {
     "name": "stdout",
     "output_type": "stream",
     "text": [
      "[(3, 4, 5), (6, 8, 10), (5, 12, 13), (9, 12, 15), (8, 15, 17)]\n"
     ]
    }
   ],
   "source": [
    "limit = 20  \n",
    "triplets = [(a, b, c) for c in range(1, limit) for a in range(1, c) for b in range(a, c) if a**2 + b**2 == c**2]\n",
    "print(triplets)\n"
   ]
  },
  {
   "cell_type": "markdown",
   "id": "3e048fd5-e571-4337-82b7-a74beea997ff",
   "metadata": {},
   "source": [
    "33. Develop a program that generates a list of all possible combinations of two lists using list comprehension.\n"
   ]
  },
  {
   "cell_type": "code",
   "execution_count": 35,
   "id": "d76a9b41-3f34-4fd0-8d3a-1927bec13124",
   "metadata": {},
   "outputs": [
    {
     "name": "stdout",
     "output_type": "stream",
     "text": [
      "[(1, 'a'), (1, 'b'), (1, 'c'), (2, 'a'), (2, 'b'), (2, 'c'), (3, 'a'), (3, 'b'), (3, 'c')]\n"
     ]
    }
   ],
   "source": [
    "list1 = [1, 2, 3]\n",
    "list2 = ['a', 'b', 'c']\n",
    "combinations = [(x, y) for x in list1 for y in list2]\n",
    "print(combinations)\n"
   ]
  },
  {
   "cell_type": "markdown",
   "id": "bc56b414-6b01-4d2f-96ef-ba5b99b8b9d0",
   "metadata": {},
   "source": [
    "34. Write a program that calculates the mean, median, and mode of a list of numbers using list comprehension.\n"
   ]
  },
  {
   "cell_type": "code",
   "execution_count": 36,
   "id": "179aeea1-907d-4fd9-adf8-d349a6899db3",
   "metadata": {},
   "outputs": [
    {
     "name": "stdout",
     "output_type": "stream",
     "text": [
      "Mean: 5.0, Median: 4.5, Mode: 4\n"
     ]
    }
   ],
   "source": [
    "numbers = [2, 4, 4, 4, 5, 5, 7, 9]\n",
    "mean = sum(numbers) / len(numbers)\n",
    "sorted_numbers = sorted(numbers)\n",
    "median = sorted_numbers[len(sorted_numbers)//2] if len(numbers) % 2 != 0 else (sorted_numbers[len(sorted_numbers)//2 - 1] + sorted_numbers[len(sorted_numbers)//2]) / 2\n",
    "mode = max(set(numbers), key=numbers.count)\n",
    "print(f\"Mean: {mean}, Median: {median}, Mode: {mode}\")\n"
   ]
  },
  {
   "cell_type": "markdown",
   "id": "c717e8c2-1335-4a45-817c-4981df72c88b",
   "metadata": {},
   "source": [
    "35. Create a program that generates Pascal's triangle up to a specified number of rows using list comprehension.\n"
   ]
  },
  {
   "cell_type": "code",
   "execution_count": 40,
   "id": "8a468cd1-bfd9-4338-b6d7-5dcb407f389b",
   "metadata": {},
   "outputs": [
    {
     "name": "stdin",
     "output_type": "stream",
     "text": [
      "Enter the number of rows for Pascal's triangle:  6\n"
     ]
    },
    {
     "name": "stdout",
     "output_type": "stream",
     "text": [
      "[1, 1]\n",
      "[1, 2, 1]\n",
      "[1, 2, 1]\n",
      "[1, 2, 1]\n",
      "[1, 2, 1]\n",
      "[1, 2, 1]\n"
     ]
    }
   ],
   "source": [
    "num_rows = int(input(\"Enter the number of rows for Pascal's triangle: \"))\n",
    "\n",
    "triangle = [[1] + [sum(pair) for pair in zip(row, row[1:])] + [1] for row in [[1]] + [[1, 1] for _ in range(num_rows - 1)]]\n",
    "\n",
    "for row in triangle:\n",
    "    print(row)\n"
   ]
  },
  {
   "cell_type": "markdown",
   "id": "3de67ddf-b1a8-401d-a0af-23a49c2ff730",
   "metadata": {},
   "source": [
    "36. Develop a program that calculates the sum of the digits of a factorial of numbers from 1 to 5 using list comprehension.\n"
   ]
  },
  {
   "cell_type": "code",
   "execution_count": 42,
   "id": "783d5ad6-6e3c-4738-b548-6b8695d75f62",
   "metadata": {},
   "outputs": [
    {
     "name": "stdout",
     "output_type": "stream",
     "text": [
      "[1, 2, 6, 6, 3]\n"
     ]
    }
   ],
   "source": [
    "factorials = [1, 1, 2, 6, 24, 120]  \n",
    "sum_of_digits = [sum(int(digit) for digit in str(factorial)) for factorial in factorials[1:]]\n",
    "print(sum_of_digits)\n"
   ]
  },
  {
   "cell_type": "markdown",
   "id": "bacdcc8c-76f3-43d5-8e46-e858cdd33ca6",
   "metadata": {},
   "source": [
    "37. Write a program that finds the longest word in a sentence using list comprehension.\n"
   ]
  },
  {
   "cell_type": "code",
   "execution_count": 43,
   "id": "f4eb7269-2997-4344-ac31-4311575fac55",
   "metadata": {},
   "outputs": [
    {
     "name": "stdout",
     "output_type": "stream",
     "text": [
      "sentence\n"
     ]
    }
   ],
   "source": [
    "sentence = \"This is a sample sentence to find the longest word\"\n",
    "longest_word = max((word for word in sentence.split()), key=len)\n",
    "print(longest_word)\n"
   ]
  },
  {
   "cell_type": "markdown",
   "id": "639ef0a5-1dcf-4d5d-868a-418b4781c5cf",
   "metadata": {},
   "source": [
    "38. Create a program that filters a list of strings to include only those with more than three vowels using list comprehension.\n"
   ]
  },
  {
   "cell_type": "code",
   "execution_count": 45,
   "id": "19bab9bf-ad34-47a3-99a1-e0082fbccc47",
   "metadata": {},
   "outputs": [
    {
     "name": "stdout",
     "output_type": "stream",
     "text": [
      "[]\n"
     ]
    }
   ],
   "source": [
    "words = [\"apple\", \"banana\", \"grape\", \"kiwi\", \"orange\", \"strawberry\"]\n",
    "filtered_words = [word for word in words if sum(1 for char in word if char.lower() in 'aeiou') > 3]\n",
    "print(filtered_words)\n"
   ]
  },
  {
   "cell_type": "markdown",
   "id": "2015f18f-69f3-48ee-968d-f143005f0759",
   "metadata": {},
   "source": [
    "39. Develop a program that calculates the sum of the digits of numbers from 1 to 1000 using list comprehension.\n"
   ]
  },
  {
   "cell_type": "code",
   "execution_count": 47,
   "id": "c797de01-9958-4201-8cba-a3bcd8e778ad",
   "metadata": {},
   "outputs": [
    {
     "name": "stdout",
     "output_type": "stream",
     "text": [
      "[1, 2, 3, 4, 5, 6, 7, 8, 9, 1, 2, 3, 4, 5, 6, 7, 8, 9, 10, 2, 3, 4, 5, 6, 7, 8, 9, 10, 11, 3, 4, 5, 6, 7, 8, 9, 10, 11, 12, 4, 5, 6, 7, 8, 9, 10, 11, 12, 13, 5, 6, 7, 8, 9, 10, 11, 12, 13, 14, 6, 7, 8, 9, 10, 11, 12, 13, 14, 15, 7, 8, 9, 10, 11, 12, 13, 14, 15, 16, 8, 9, 10, 11, 12, 13, 14, 15, 16, 17, 9, 10, 11, 12, 13, 14, 15, 16, 17, 18, 1, 2, 3, 4, 5, 6, 7, 8, 9, 10, 2, 3, 4, 5, 6, 7, 8, 9, 10, 11, 3, 4, 5, 6, 7, 8, 9, 10, 11, 12, 4, 5, 6, 7, 8, 9, 10, 11, 12, 13, 5, 6, 7, 8, 9, 10, 11, 12, 13, 14, 6, 7, 8, 9, 10, 11, 12, 13, 14, 15, 7, 8, 9, 10, 11, 12, 13, 14, 15, 16, 8, 9, 10, 11, 12, 13, 14, 15, 16, 17, 9, 10, 11, 12, 13, 14, 15, 16, 17, 18, 10, 11, 12, 13, 14, 15, 16, 17, 18, 19, 2, 3, 4, 5, 6, 7, 8, 9, 10, 11, 3, 4, 5, 6, 7, 8, 9, 10, 11, 12, 4, 5, 6, 7, 8, 9, 10, 11, 12, 13, 5, 6, 7, 8, 9, 10, 11, 12, 13, 14, 6, 7, 8, 9, 10, 11, 12, 13, 14, 15, 7, 8, 9, 10, 11, 12, 13, 14, 15, 16, 8, 9, 10, 11, 12, 13, 14, 15, 16, 17, 9, 10, 11, 12, 13, 14, 15, 16, 17, 18, 10, 11, 12, 13, 14, 15, 16, 17, 18, 19, 11, 12, 13, 14, 15, 16, 17, 18, 19, 20, 3, 4, 5, 6, 7, 8, 9, 10, 11, 12, 4, 5, 6, 7, 8, 9, 10, 11, 12, 13, 5, 6, 7, 8, 9, 10, 11, 12, 13, 14, 6, 7, 8, 9, 10, 11, 12, 13, 14, 15, 7, 8, 9, 10, 11, 12, 13, 14, 15, 16, 8, 9, 10, 11, 12, 13, 14, 15, 16, 17, 9, 10, 11, 12, 13, 14, 15, 16, 17, 18, 10, 11, 12, 13, 14, 15, 16, 17, 18, 19, 11, 12, 13, 14, 15, 16, 17, 18, 19, 20, 12, 13, 14, 15, 16, 17, 18, 19, 20, 21, 4, 5, 6, 7, 8, 9, 10, 11, 12, 13, 5, 6, 7, 8, 9, 10, 11, 12, 13, 14, 6, 7, 8, 9, 10, 11, 12, 13, 14, 15, 7, 8, 9, 10, 11, 12, 13, 14, 15, 16, 8, 9, 10, 11, 12, 13, 14, 15, 16, 17, 9, 10, 11, 12, 13, 14, 15, 16, 17, 18, 10, 11, 12, 13, 14, 15, 16, 17, 18, 19, 11, 12, 13, 14, 15, 16, 17, 18, 19, 20, 12, 13, 14, 15, 16, 17, 18, 19, 20, 21, 13, 14, 15, 16, 17, 18, 19, 20, 21, 22, 5, 6, 7, 8, 9, 10, 11, 12, 13, 14, 6, 7, 8, 9, 10, 11, 12, 13, 14, 15, 7, 8, 9, 10, 11, 12, 13, 14, 15, 16, 8, 9, 10, 11, 12, 13, 14, 15, 16, 17, 9, 10, 11, 12, 13, 14, 15, 16, 17, 18, 10, 11, 12, 13, 14, 15, 16, 17, 18, 19, 11, 12, 13, 14, 15, 16, 17, 18, 19, 20, 12, 13, 14, 15, 16, 17, 18, 19, 20, 21, 13, 14, 15, 16, 17, 18, 19, 20, 21, 22, 14, 15, 16, 17, 18, 19, 20, 21, 22, 23, 6, 7, 8, 9, 10, 11, 12, 13, 14, 15, 7, 8, 9, 10, 11, 12, 13, 14, 15, 16, 8, 9, 10, 11, 12, 13, 14, 15, 16, 17, 9, 10, 11, 12, 13, 14, 15, 16, 17, 18, 10, 11, 12, 13, 14, 15, 16, 17, 18, 19, 11, 12, 13, 14, 15, 16, 17, 18, 19, 20, 12, 13, 14, 15, 16, 17, 18, 19, 20, 21, 13, 14, 15, 16, 17, 18, 19, 20, 21, 22, 14, 15, 16, 17, 18, 19, 20, 21, 22, 23, 15, 16, 17, 18, 19, 20, 21, 22, 23, 24, 7, 8, 9, 10, 11, 12, 13, 14, 15, 16, 8, 9, 10, 11, 12, 13, 14, 15, 16, 17, 9, 10, 11, 12, 13, 14, 15, 16, 17, 18, 10, 11, 12, 13, 14, 15, 16, 17, 18, 19, 11, 12, 13, 14, 15, 16, 17, 18, 19, 20, 12, 13, 14, 15, 16, 17, 18, 19, 20, 21, 13, 14, 15, 16, 17, 18, 19, 20, 21, 22, 14, 15, 16, 17, 18, 19, 20, 21, 22, 23, 15, 16, 17, 18, 19, 20, 21, 22, 23, 24, 16, 17, 18, 19, 20, 21, 22, 23, 24, 25, 8, 9, 10, 11, 12, 13, 14, 15, 16, 17, 9, 10, 11, 12, 13, 14, 15, 16, 17, 18, 10, 11, 12, 13, 14, 15, 16, 17, 18, 19, 11, 12, 13, 14, 15, 16, 17, 18, 19, 20, 12, 13, 14, 15, 16, 17, 18, 19, 20, 21, 13, 14, 15, 16, 17, 18, 19, 20, 21, 22, 14, 15, 16, 17, 18, 19, 20, 21, 22, 23, 15, 16, 17, 18, 19, 20, 21, 22, 23, 24, 16, 17, 18, 19, 20, 21, 22, 23, 24, 25, 17, 18, 19, 20, 21, 22, 23, 24, 25, 26, 9, 10, 11, 12, 13, 14, 15, 16, 17, 18, 10, 11, 12, 13, 14, 15, 16, 17, 18, 19, 11, 12, 13, 14, 15, 16, 17, 18, 19, 20, 12, 13, 14, 15, 16, 17, 18, 19, 20, 21, 13, 14, 15, 16, 17, 18, 19, 20, 21, 22, 14, 15, 16, 17, 18, 19, 20, 21, 22, 23, 15, 16, 17, 18, 19, 20, 21, 22, 23, 24, 16, 17, 18, 19, 20, 21, 22, 23, 24, 25, 17, 18, 19, 20, 21, 22, 23, 24, 25, 26, 18, 19, 20, 21, 22, 23, 24, 25, 26, 27, 1]\n"
     ]
    }
   ],
   "source": [
    "sum_of_digits = [sum(int(digit) for digit in str(num)) for num in range(1, 1001)]\n",
    "print(sum_of_digits)\n"
   ]
  },
  {
   "cell_type": "markdown",
   "id": "20cd71ef-075f-4608-a55d-296c10eb33fc",
   "metadata": {},
   "source": [
    "40. Write a program that generates a list of prime palindromic numbers using list comprehension.\n"
   ]
  },
  {
   "cell_type": "code",
   "execution_count": 48,
   "id": "6433d14f-582d-4450-b16c-e6c43bc8833d",
   "metadata": {},
   "outputs": [
    {
     "name": "stdout",
     "output_type": "stream",
     "text": [
      "[2, 3, 5, 7, 11, 101, 131, 151, 181, 191, 313, 353, 373, 383, 727, 757, 787, 797, 919, 929]\n"
     ]
    }
   ],
   "source": [
    "def is_prime(num):\n",
    "    return num > 1 and all(num % i != 0 for i in range(2, int(num**0.5) + 1))\n",
    "\n",
    "palindromic_primes = [num for num in range(1, 1000) if is_prime(num) and str(num) == str(num)[::-1]]\n",
    "print(palindromic_primes)\n"
   ]
  },
  {
   "cell_type": "code",
   "execution_count": null,
   "id": "7c84c72b-d27c-4078-93ef-58a3f7b22e7b",
   "metadata": {},
   "outputs": [],
   "source": []
  }
 ],
 "metadata": {
  "kernelspec": {
   "display_name": "Python 3 (ipykernel)",
   "language": "python",
   "name": "python3"
  },
  "language_info": {
   "codemirror_mode": {
    "name": "ipython",
    "version": 3
   },
   "file_extension": ".py",
   "mimetype": "text/x-python",
   "name": "python",
   "nbconvert_exporter": "python",
   "pygments_lexer": "ipython3",
   "version": "3.10.8"
  }
 },
 "nbformat": 4,
 "nbformat_minor": 5
}
